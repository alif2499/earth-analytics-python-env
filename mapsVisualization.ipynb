{
 "cells": [
  {
   "cell_type": "code",
   "execution_count": 46,
   "id": "ac412ffa-d574-4f9c-8d44-3e9b8cd5ddc2",
   "metadata": {},
   "outputs": [],
   "source": [
    "# !pip install ipywidgets"
   ]
  },
  {
   "cell_type": "code",
   "execution_count": 6,
   "id": "57c69662-772b-46a2-b3a7-9f078c247e51",
   "metadata": {},
   "outputs": [],
   "source": [
    "# !python -m ipykernel install --user --name=earth-analytics-python --display-name \"Python (maps)\""
   ]
  },
  {
   "cell_type": "code",
   "execution_count": 9,
   "id": "172760a8-81f6-4b09-b26a-c7894e565e04",
   "metadata": {},
   "outputs": [],
   "source": [
    "# Import libraries\n",
    "import os\n",
    "import matplotlib.pyplot as plt\n",
    "import numpy as np\n",
    "from shapely.geometry import box\n",
    "import geopandas as gpd\n",
    "import earthpy as et\n",
    "\n",
    "# Get the data & set working dir\n",
    "data = et.data.get_data('spatial-vector-lidar')\n",
    "os.chdir(os.path.join(et.io.HOME, 'earth-analytics', 'data'))"
   ]
  },
  {
   "cell_type": "code",
   "execution_count": 10,
   "id": "72194f87-fecd-4e85-a9cf-9eba4152ce33",
   "metadata": {},
   "outputs": [
    {
     "name": "stdout",
     "output_type": "stream",
     "text": [
      "<class 'pandas.core.series.Series'>\n"
     ]
    }
   ],
   "source": [
    "# Import roads shapefile\n",
    "sjer_roads_path = os.path.join(\"spatial-vector-lidar\", \n",
    "                               \"california\", \"madera-county-roads\", \n",
    "                               \"tl_2013_06039_roads.shp\")\n",
    "\n",
    "sjer_roads = gpd.read_file(sjer_roads_path)\n",
    "\n",
    "# View data type\n",
    "# print(type(sjer_roads['RTTYP']))"
   ]
  },
  {
   "cell_type": "code",
   "execution_count": null,
   "id": "d60f6809-32e9-4d7d-87a6-8cc9b5ed2db1",
   "metadata": {},
   "outputs": [],
   "source": []
  },
  {
   "cell_type": "code",
   "execution_count": null,
   "id": "ddeaf144-dedc-4fd7-bb73-9493d39ea9ed",
   "metadata": {},
   "outputs": [],
   "source": []
  },
  {
   "cell_type": "code",
   "execution_count": null,
   "id": "e5236edc-b1d5-41b0-abe2-b5f0bdef219b",
   "metadata": {},
   "outputs": [],
   "source": []
  },
  {
   "cell_type": "code",
   "execution_count": null,
   "id": "5c94f0b7-1778-4bce-a4e4-7d2bb6808ba6",
   "metadata": {},
   "outputs": [],
   "source": []
  },
  {
   "cell_type": "markdown",
   "id": "bb46edcb-77d6-42c9-919c-4903a4e92978",
   "metadata": {},
   "source": [
    "# Exploratory Data Analysis"
   ]
  },
  {
   "cell_type": "code",
   "execution_count": 11,
   "id": "6b03da86-68d6-444f-97da-dca39a3086ef",
   "metadata": {},
   "outputs": [
    {
     "data": {
      "text/html": [
       "<div>\n",
       "<style scoped>\n",
       "    .dataframe tbody tr th:only-of-type {\n",
       "        vertical-align: middle;\n",
       "    }\n",
       "\n",
       "    .dataframe tbody tr th {\n",
       "        vertical-align: top;\n",
       "    }\n",
       "\n",
       "    .dataframe thead th {\n",
       "        text-align: right;\n",
       "    }\n",
       "</style>\n",
       "<table border=\"1\" class=\"dataframe\">\n",
       "  <thead>\n",
       "    <tr style=\"text-align: right;\">\n",
       "      <th></th>\n",
       "      <th>LINEARID</th>\n",
       "      <th>FULLNAME</th>\n",
       "      <th>RTTYP</th>\n",
       "      <th>MTFCC</th>\n",
       "      <th>geometry</th>\n",
       "    </tr>\n",
       "  </thead>\n",
       "  <tbody>\n",
       "    <tr>\n",
       "      <th>0</th>\n",
       "      <td>110454239066</td>\n",
       "      <td>N 14th St</td>\n",
       "      <td>M</td>\n",
       "      <td>S1400</td>\n",
       "      <td>LINESTRING (-120.27227 37.11615, -120.27244 37...</td>\n",
       "    </tr>\n",
       "    <tr>\n",
       "      <th>1</th>\n",
       "      <td>110454239052</td>\n",
       "      <td>N 11th St</td>\n",
       "      <td>M</td>\n",
       "      <td>S1400</td>\n",
       "      <td>LINESTRING (-120.26788 37.11667, -120.26807 37...</td>\n",
       "    </tr>\n",
       "    <tr>\n",
       "      <th>2</th>\n",
       "      <td>110454239056</td>\n",
       "      <td>N 12th St</td>\n",
       "      <td>M</td>\n",
       "      <td>S1400</td>\n",
       "      <td>LINESTRING (-120.27053 37.11749, -120.27045 37...</td>\n",
       "    </tr>\n",
       "    <tr>\n",
       "      <th>3</th>\n",
       "      <td>110454239047</td>\n",
       "      <td>N 10th St</td>\n",
       "      <td>M</td>\n",
       "      <td>S1400</td>\n",
       "      <td>LINESTRING (-120.26703 37.11735, -120.26721 37...</td>\n",
       "    </tr>\n",
       "    <tr>\n",
       "      <th>4</th>\n",
       "      <td>110454243091</td>\n",
       "      <td>N Westberry Blvd</td>\n",
       "      <td>M</td>\n",
       "      <td>S1400</td>\n",
       "      <td>LINESTRING (-120.10122 36.96524, -120.10123 36...</td>\n",
       "    </tr>\n",
       "  </tbody>\n",
       "</table>\n",
       "</div>"
      ],
      "text/plain": [
       "       LINEARID          FULLNAME RTTYP  MTFCC  \\\n",
       "0  110454239066         N 14th St     M  S1400   \n",
       "1  110454239052         N 11th St     M  S1400   \n",
       "2  110454239056         N 12th St     M  S1400   \n",
       "3  110454239047         N 10th St     M  S1400   \n",
       "4  110454243091  N Westberry Blvd     M  S1400   \n",
       "\n",
       "                                            geometry  \n",
       "0  LINESTRING (-120.27227 37.11615, -120.27244 37...  \n",
       "1  LINESTRING (-120.26788 37.11667, -120.26807 37...  \n",
       "2  LINESTRING (-120.27053 37.11749, -120.27045 37...  \n",
       "3  LINESTRING (-120.26703 37.11735, -120.26721 37...  \n",
       "4  LINESTRING (-120.10122 36.96524, -120.10123 36...  "
      ]
     },
     "execution_count": 11,
     "metadata": {},
     "output_type": "execute_result"
    }
   ],
   "source": [
    "sjer_roads.head()"
   ]
  },
  {
   "cell_type": "code",
   "execution_count": 12,
   "id": "c674b8a4-49c1-4f89-a137-cf17a0b26618",
   "metadata": {},
   "outputs": [
    {
     "data": {
      "text/plain": [
       "LINEARID      object\n",
       "FULLNAME      object\n",
       "RTTYP         object\n",
       "MTFCC         object\n",
       "geometry    geometry\n",
       "dtype: object"
      ]
     },
     "execution_count": 12,
     "metadata": {},
     "output_type": "execute_result"
    }
   ],
   "source": [
    "sjer_roads.dtypes"
   ]
  },
  {
   "cell_type": "code",
   "execution_count": 13,
   "id": "a564d7b6-7ee8-46a0-aa27-18082a169533",
   "metadata": {},
   "outputs": [
    {
     "data": {
      "text/plain": [
       "Index(['LINEARID', 'FULLNAME', 'RTTYP', 'MTFCC', 'geometry'], dtype='object')"
      ]
     },
     "execution_count": 13,
     "metadata": {},
     "output_type": "execute_result"
    }
   ],
   "source": [
    "# View first 5 rows\n",
    "sjer_roads.columns"
   ]
  },
  {
   "cell_type": "code",
   "execution_count": 14,
   "id": "2a3dbb70-4362-4bc9-8c95-1527b3fa4870",
   "metadata": {},
   "outputs": [
    {
     "name": "stdout",
     "output_type": "stream",
     "text": [
      "LINESTRING (-120.27226700000001 37.116150999999995, -120.27244 37.116289, -120.27268300000001 37.116483999999986, -120.272955 37.11671299999999, -120.273125 37.116856999999996, -120.273304 37.11699399999999, -120.27351300000001 37.11715399999999, -120.273833 37.117419999999996, -120.274008 37.11756499999999)\n"
     ]
    }
   ],
   "source": [
    "a = sjer_roads[\"geometry\"].iloc[0]\n",
    "print(a)"
   ]
  },
  {
   "cell_type": "code",
   "execution_count": 15,
   "id": "341cca69-9210-45cc-a8ee-64ae1c83568c",
   "metadata": {},
   "outputs": [
    {
     "data": {
      "text/plain": [
       "array(['M', None, 'S', 'C'], dtype=object)"
      ]
     },
     "execution_count": 15,
     "metadata": {},
     "output_type": "execute_result"
    }
   ],
   "source": [
    "sjer_roads['RTTYP'].unique()"
   ]
  },
  {
   "cell_type": "code",
   "execution_count": 40,
   "id": "0a53a74a-66bb-4393-a65f-a5ec1c41510d",
   "metadata": {},
   "outputs": [
    {
     "data": {
      "image/png": "[encoded data removed]",
      "text/plain": [
       "<Figure size 640x480 with 1 Axes>"
      ]
     },
     "metadata": {},
     "output_type": "display_data"
    }
   ],
   "source": [
    "import geopandas as gpd\n",
    "from shapely.geometry import LineString\n",
    "import matplotlib.pyplot as plt\n",
    "# -89.541553 54.128819, -83.937778 53.710203, -84.927767 49.686822, -90.117636 50.117653\n",
    "# Create the LINESTRING geometry\n",
    "coords = [(-89.541553, 54.128819), \n",
    "          (-83.937778, 53.710203), \n",
    "          (-84.927767, 49.686822), \n",
    "          (-90.117636, 50.117653),\n",
    "          (-89.541553, 54.128819)]\n",
    "\n",
    "line = LineString(coords)\n",
    "\n",
    "# Convert to GeoDataFrame\n",
    "gdf = gpd.GeoDataFrame(geometry=[line])\n",
    "\n",
    "# Plot the LINESTRING\n",
    "gdf.plot()\n",
    "plt.show()\n"
   ]
  },
  {
   "cell_type": "code",
   "execution_count": 17,
   "id": "9a280691-08c9-4f6d-8ea3-702410012f92",
   "metadata": {},
   "outputs": [],
   "source": [
    "# Save as CSV\n",
    "sjer_roads.to_csv(\"sjer_roads.csv\", index=False)"
   ]
  },
  {
   "cell_type": "code",
   "execution_count": null,
   "id": "605bc9ae-ed21-441d-acff-2d8f1c59d9b4",
   "metadata": {},
   "outputs": [],
   "source": []
  },
  {
   "cell_type": "code",
   "execution_count": null,
   "id": "b0095491-f65a-450e-841b-946f496f2b86",
   "metadata": {},
   "outputs": [],
   "source": []
  },
  {
   "cell_type": "code",
   "execution_count": null,
   "id": "76eb0636-0790-4e53-82e2-a4dd0fee0291",
   "metadata": {},
   "outputs": [],
   "source": []
  },
  {
   "cell_type": "code",
   "execution_count": null,
   "id": "86997ebb-0ba2-448c-9e25-e59cf2f7ad10",
   "metadata": {},
   "outputs": [],
   "source": []
  },
  {
   "cell_type": "code",
   "execution_count": null,
   "id": "0afcf085-b7b5-4140-9d99-66c2e48bf8c0",
   "metadata": {},
   "outputs": [],
   "source": []
  },
  {
   "cell_type": "code",
   "execution_count": null,
   "id": "8e2df56c-c72d-4df4-983f-6053376e7291",
   "metadata": {},
   "outputs": [],
   "source": []
  },
  {
   "cell_type": "code",
   "execution_count": null,
   "id": "92511f16-b96d-4f32-af33-002572fe3b0a",
   "metadata": {},
   "outputs": [],
   "source": []
  },
  {
   "cell_type": "code",
   "execution_count": null,
   "id": "61f89f38-5c80-4935-a395-96a30a0a0c75",
   "metadata": {},
   "outputs": [],
   "source": []
  },
  {
   "cell_type": "code",
   "execution_count": 18,
   "id": "9cb5f847-a844-43d7-b929-bd9ba619d94e",
   "metadata": {},
   "outputs": [
    {
     "name": "stdout",
     "output_type": "stream",
     "text": [
      "['M' None 'S' 'C']\n"
     ]
    }
   ],
   "source": [
    "# View unique attributes for each road in the data\n",
    "print(sjer_roads['RTTYP'].unique())"
   ]
  },
  {
   "cell_type": "code",
   "execution_count": 19,
   "id": "df51499c-91f4-4dc6-a630-b1581c474c36",
   "metadata": {},
   "outputs": [
    {
     "name": "stdout",
     "output_type": "stream",
     "text": [
      "['M' 'Unknown' 'S' 'C']\n"
     ]
    },
    {
     "name": "stderr",
     "output_type": "stream",
     "text": [
      "C:\\Users\\alifr\\AppData\\Local\\Temp\\ipykernel_18888\\2933021426.py:2: FutureWarning: A value is trying to be set on a copy of a DataFrame or Series through chained assignment using an inplace method.\n",
      "The behavior will change in pandas 3.0. This inplace method will never work because the intermediate object on which we are setting values always behaves as a copy.\n",
      "\n",
      "For example, when doing 'df[col].method(value, inplace=True)', try using 'df.method({col: value}, inplace=True)' or df[col] = df[col].method(value) instead, to perform the operation inplace on the original object.\n",
      "\n",
      "\n",
      "  sjer_roads['RTTYP'].replace(np.nan, 'Unknown', inplace=True)\n"
     ]
    }
   ],
   "source": [
    "# Map each value to a new value\n",
    "sjer_roads['RTTYP'].replace(np.nan, 'Unknown', inplace=True)\n",
    "\n",
    "print(sjer_roads['RTTYP'].unique())"
   ]
  },
  {
   "cell_type": "code",
   "execution_count": null,
   "id": "5eaead80-4ea0-4bab-9244-e16c1a7de0fa",
   "metadata": {},
   "outputs": [],
   "source": []
  },
  {
   "cell_type": "code",
   "execution_count": 35,
   "id": "e3b287ef-534d-41e6-9d3e-5ce7baee100e",
   "metadata": {},
   "outputs": [
    {
     "data": {
      "application/vnd.jupyter.widget-view+json": {
       "model_id": "e394dac54eab468e93fa1029cd4c7bbb",
       "version_major": 2,
       "version_minor": 0
      },
      "text/plain": [
       "interactive(children=(Dropdown(description='Road Type:', options=('All', 'M', 'Unknown', 'S', 'C'), style=Desc…"
      ]
     },
     "execution_count": 35,
     "metadata": {},
     "output_type": "execute_result"
    }
   ],
   "source": [
    "import geopandas as gpd\n",
    "import matplotlib.pyplot as plt\n",
    "import ipywidgets as widgets\n",
    "from IPython.display import display\n",
    "\n",
    "# Load your data\n",
    "# sjer_roads = gpd.read_file(\"path/to/your/sjer_roads.shp\")\n",
    "\n",
    "# Define the custom color palette\n",
    "roadPalette = {'M': 'blue', 'S': 'green', 'C': 'purple', 'Unknown': 'grey'}\n",
    "lineWidths = {'M': 0.5, 'S': 1.5, 'C': 1.5, 'Unknown': 0.5}\n",
    "\n",
    "# Compute the full extent (bounding box) to keep the map size fixed\n",
    "x_min, y_min, x_max, y_max = sjer_roads.total_bounds\n",
    "\n",
    "# Unique road types\n",
    "road_types = sjer_roads[\"RTTYP\"].unique()\n",
    "\n",
    "# Create a dropdown to select road type\n",
    "road_selector = widgets.Dropdown(\n",
    "    options=['All'] + list(road_types),\n",
    "    value='All',\n",
    "    description='Road Type:',\n",
    "    style={'description_width': 'initial'}\n",
    ")\n",
    "\n",
    "def update_map(selected_road_type):\n",
    "    fig, ax = plt.subplots(figsize=(14, 6))\n",
    "\n",
    "    # Filter data based on selection\n",
    "    if selected_road_type == \"All\":\n",
    "        filtered_roads = sjer_roads\n",
    "        colors = [roadPalette.get(rt, 'grey') for rt in filtered_roads[\"RTTYP\"]]\n",
    "        linewidths = [lineWidths.get(rt, 1) for rt in filtered_roads[\"RTTYP\"]]\n",
    "    else:\n",
    "        filtered_roads = sjer_roads[sjer_roads[\"RTTYP\"] == selected_road_type]\n",
    "        colors = roadPalette.get(selected_road_type, 'grey')\n",
    "        linewidths = lineWidths.get(selected_road_type, 1)\n",
    "\n",
    "    # Plot with dynamic linewidths\n",
    "    filtered_roads.plot(color=colors, ax=ax, linewidth=linewidths, legend=True)\n",
    "\n",
    "    # Set fixed map extent (prevents zooming)\n",
    "    ax.set_xlim(x_min, x_max)\n",
    "    ax.set_ylim(y_min, y_max)\n",
    "\n",
    "    # Adjust legend position\n",
    "    leg = ax.get_legend()\n",
    "    if leg:\n",
    "        leg.set_bbox_to_anchor((1.15, 0.5))\n",
    "\n",
    "    ax.set_axis_off()\n",
    "    plt.show()\n",
    "\n",
    "# Display the interactive widget\n",
    "widgets.interactive(update_map, selected_road_type=road_selector)"
   ]
  },
  {
   "cell_type": "code",
   "execution_count": 24,
   "id": "2cb9050b-4030-4793-b525-2dac06c4afa1",
   "metadata": {},
   "outputs": [],
   "source": [
    "# fig, ax = plt.subplots(figsize=(14, 6))\n",
    "\n",
    "# sjer_roads.plot(column='RTTYP',\n",
    "#                 categorical=True,\n",
    "#                 legend=True,\n",
    "#                 ax=ax)\n",
    "\n",
    "# # Adjust legend location\n",
    "# leg = ax.get_legend()\n",
    "# leg.set_bbox_to_anchor((1.15,0.5))\n",
    "\n",
    "# ax.set_axis_off()\n",
    "\n",
    "# plt.show()"
   ]
  },
  {
   "cell_type": "code",
   "execution_count": 36,
   "id": "39eaff86-57be-434a-8bbd-e0f6b9a8db20",
   "metadata": {},
   "outputs": [],
   "source": [
    "# Create a dictionary where you assign each attribute value to a particular color\n",
    "roadPalette = {'M': 'blue',\n",
    "               'S': 'green',\n",
    "               'C': 'purple',\n",
    "               'Unknown': 'grey'}\n",
    "# roadPalette"
   ]
  },
  {
   "cell_type": "code",
   "execution_count": 25,
   "id": "da8e95e4-c370-4419-ab0b-68359a171061",
   "metadata": {},
   "outputs": [],
   "source": [
    "# # Plot data\n",
    "# fig, ax = plt.subplots(figsize=(10, 10))\n",
    "\n",
    "# # Loop through each attribute type and plot it using the colors assigned in the dictionary\n",
    "# for ctype, data in sjer_roads.groupby('RTTYP'):\n",
    "    \n",
    "#     # Define the color for each group using the dictionary\n",
    "#     color = roadPalette[ctype]\n",
    "    \n",
    "#     # Plot each group using the color defined above\n",
    "#     data.plot(color=color,\n",
    "#               ax=ax,\n",
    "#               label=ctype)\n",
    "\n",
    "# ax.legend(bbox_to_anchor=(1.0, .5), prop={'size': 12})\n",
    "# ax.set(title='Madera County Roads')\n",
    "\n",
    "# ax.set_axis_off()\n",
    "# plt.show()"
   ]
  },
  {
   "cell_type": "code",
   "execution_count": 26,
   "id": "5a27f72d-38d9-459d-9fe1-01d424eda5c1",
   "metadata": {},
   "outputs": [],
   "source": [
    "# fig, ax = plt.subplots(figsize=(10, 10))\n",
    "\n",
    "# # Loop through each group (unique attribute value) in the roads layer and assign it a color\n",
    "# for ctype, data in sjer_roads.groupby('RTTYP'):\n",
    "#     color = roadPalette[ctype]\n",
    "#     data.plot(color=color,\n",
    "#               ax=ax,\n",
    "#               label=ctype,\n",
    "#               linewidth=4)  # Make all lines thicker\n",
    "\n",
    "# # Add title and legend to plot\n",
    "# ax.legend()\n",
    "# ax.set(title='Madera County Roads')\n",
    "# ax.set_axis_off()\n",
    "\n",
    "# plt.show()"
   ]
  },
  {
   "cell_type": "code",
   "execution_count": 27,
   "id": "b0f3ff19-0eb1-45fb-9aa3-296e5aa60af0",
   "metadata": {},
   "outputs": [],
   "source": [
    "# # Create dictionary to map each attribute value to a line width\n",
    "# lineWidths = {'M': 1, 'S': 1, 'C': 4, 'Unknown': .5}\n",
    "\n",
    "# # Plot data adjusting the linewidth attribute\n",
    "# fig, ax = plt.subplots(figsize=(10, 10))\n",
    "# ax.set_axis_off()\n",
    "\n",
    "# for ctype, data in sjer_roads.groupby('RTTYP'):\n",
    "#     color = roadPalette[ctype]    \n",
    "#     data.plot(color=color,\n",
    "#               ax=ax,\n",
    "#               label=ctype,\n",
    "              \n",
    "#               # Assign each group to a line width using the dictionary created above\n",
    "#               linewidth=lineWidths[ctype])\n",
    "\n",
    "# ax.legend()\n",
    "# ax.set(title='Madera County \\n Line width varies by TYPE Attribute Value')\n",
    "# plt.show()"
   ]
  },
  {
   "cell_type": "code",
   "execution_count": null,
   "id": "59f5da1a-0361-4c1a-93ff-bb1675892cf8",
   "metadata": {},
   "outputs": [],
   "source": []
  }
 ],
 "metadata": {
  "kernelspec": {
   "display_name": "Python (maps)",
   "language": "python",
   "name": "earth-analytics-python"
  },
  "language_info": {
   "codemirror_mode": {
    "name": "ipython",
    "version": 3
   },
   "file_extension": ".py",
   "mimetype": "text/x-python",
   "name": "python",
   "nbconvert_exporter": "python",
   "pygments_lexer": "ipython3",
   "version": "3.11.11"
  }
 },
 "nbformat": 4,
 "nbformat_minor": 5
}
